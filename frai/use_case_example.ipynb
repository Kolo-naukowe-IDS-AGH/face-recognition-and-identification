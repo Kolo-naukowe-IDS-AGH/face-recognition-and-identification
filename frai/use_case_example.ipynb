{
 "cells": [
  {
   "cell_type": "code",
   "execution_count": 8,
   "metadata": {},
   "outputs": [],
   "source": [
    "from students import AdmittedStudents"
   ]
  },
  {
   "cell_type": "code",
   "execution_count": 9,
   "metadata": {},
   "outputs": [
    {
     "data": {
      "text/html": [
       "<div>\n",
       "<style scoped>\n",
       "    .dataframe tbody tr th:only-of-type {\n",
       "        vertical-align: middle;\n",
       "    }\n",
       "\n",
       "    .dataframe tbody tr th {\n",
       "        vertical-align: top;\n",
       "    }\n",
       "\n",
       "    .dataframe thead th {\n",
       "        text-align: right;\n",
       "    }\n",
       "</style>\n",
       "<table border=\"1\" class=\"dataframe\">\n",
       "  <thead>\n",
       "    <tr style=\"text-align: right;\">\n",
       "      <th></th>\n",
       "      <th>firstname</th>\n",
       "      <th>lastname</th>\n",
       "    </tr>\n",
       "    <tr>\n",
       "      <th>id</th>\n",
       "      <th></th>\n",
       "      <th></th>\n",
       "    </tr>\n",
       "  </thead>\n",
       "  <tbody>\n",
       "    <tr>\n",
       "      <th>300000</th>\n",
       "      <td>Aimil</td>\n",
       "      <td>Hoban</td>\n",
       "    </tr>\n",
       "    <tr>\n",
       "      <th>300001</th>\n",
       "      <td>Max</td>\n",
       "      <td>Teryn</td>\n",
       "    </tr>\n",
       "    <tr>\n",
       "      <th>300002</th>\n",
       "      <td>Aili</td>\n",
       "      <td>Taima</td>\n",
       "    </tr>\n",
       "    <tr>\n",
       "      <th>300003</th>\n",
       "      <td>Talya</td>\n",
       "      <td>Pettiford</td>\n",
       "    </tr>\n",
       "    <tr>\n",
       "      <th>300004</th>\n",
       "      <td>Inga</td>\n",
       "      <td>Hortensia</td>\n",
       "    </tr>\n",
       "    <tr>\n",
       "      <th>...</th>\n",
       "      <td>...</td>\n",
       "      <td>...</td>\n",
       "    </tr>\n",
       "    <tr>\n",
       "      <th>300095</th>\n",
       "      <td>Adriana</td>\n",
       "      <td>Yusuk</td>\n",
       "    </tr>\n",
       "    <tr>\n",
       "      <th>300096</th>\n",
       "      <td>Alex</td>\n",
       "      <td>Zrike</td>\n",
       "    </tr>\n",
       "    <tr>\n",
       "      <th>300097</th>\n",
       "      <td>Aimil</td>\n",
       "      <td>Whittaker</td>\n",
       "    </tr>\n",
       "    <tr>\n",
       "      <th>300098</th>\n",
       "      <td>Cherilyn</td>\n",
       "      <td>Oriana</td>\n",
       "    </tr>\n",
       "    <tr>\n",
       "      <th>300099</th>\n",
       "      <td>Shel</td>\n",
       "      <td>Ovid</td>\n",
       "    </tr>\n",
       "  </tbody>\n",
       "</table>\n",
       "<p>100 rows × 2 columns</p>\n",
       "</div>"
      ],
      "text/plain": [
       "       firstname   lastname\n",
       "id                         \n",
       "300000     Aimil      Hoban\n",
       "300001       Max      Teryn\n",
       "300002      Aili      Taima\n",
       "300003     Talya  Pettiford\n",
       "300004      Inga  Hortensia\n",
       "...          ...        ...\n",
       "300095   Adriana      Yusuk\n",
       "300096      Alex      Zrike\n",
       "300097     Aimil  Whittaker\n",
       "300098  Cherilyn     Oriana\n",
       "300099      Shel       Ovid\n",
       "\n",
       "[100 rows x 2 columns]"
      ]
     },
     "execution_count": 9,
     "metadata": {},
     "output_type": "execute_result"
    }
   ],
   "source": [
    "students = AdmittedStudents(csv_file='students_list.csv')\n",
    "students.admitted_students"
   ]
  },
  {
   "cell_type": "code",
   "execution_count": 10,
   "metadata": {},
   "outputs": [
    {
     "data": {
      "text/html": [
       "<div>\n",
       "<style scoped>\n",
       "    .dataframe tbody tr th:only-of-type {\n",
       "        vertical-align: middle;\n",
       "    }\n",
       "\n",
       "    .dataframe tbody tr th {\n",
       "        vertical-align: top;\n",
       "    }\n",
       "\n",
       "    .dataframe thead th {\n",
       "        text-align: right;\n",
       "    }\n",
       "</style>\n",
       "<table border=\"1\" class=\"dataframe\">\n",
       "  <thead>\n",
       "    <tr style=\"text-align: right;\">\n",
       "      <th></th>\n",
       "      <th>firstname</th>\n",
       "      <th>lastname</th>\n",
       "    </tr>\n",
       "  </thead>\n",
       "  <tbody>\n",
       "    <tr>\n",
       "      <th>300000</th>\n",
       "      <td>Aimil</td>\n",
       "      <td>Hoban</td>\n",
       "    </tr>\n",
       "    <tr>\n",
       "      <th>300001</th>\n",
       "      <td>Max</td>\n",
       "      <td>Teryn</td>\n",
       "    </tr>\n",
       "    <tr>\n",
       "      <th>300002</th>\n",
       "      <td>Aili</td>\n",
       "      <td>Taima</td>\n",
       "    </tr>\n",
       "    <tr>\n",
       "      <th>300003</th>\n",
       "      <td>Talya</td>\n",
       "      <td>Pettiford</td>\n",
       "    </tr>\n",
       "    <tr>\n",
       "      <th>300004</th>\n",
       "      <td>Inga</td>\n",
       "      <td>Hortensia</td>\n",
       "    </tr>\n",
       "    <tr>\n",
       "      <th>...</th>\n",
       "      <td>...</td>\n",
       "      <td>...</td>\n",
       "    </tr>\n",
       "    <tr>\n",
       "      <th>300096</th>\n",
       "      <td>Alex</td>\n",
       "      <td>Zrike</td>\n",
       "    </tr>\n",
       "    <tr>\n",
       "      <th>300097</th>\n",
       "      <td>Aimil</td>\n",
       "      <td>Whittaker</td>\n",
       "    </tr>\n",
       "    <tr>\n",
       "      <th>300098</th>\n",
       "      <td>Cherilyn</td>\n",
       "      <td>Oriana</td>\n",
       "    </tr>\n",
       "    <tr>\n",
       "      <th>300099</th>\n",
       "      <td>Shel</td>\n",
       "      <td>Ovid</td>\n",
       "    </tr>\n",
       "    <tr>\n",
       "      <th>303030</th>\n",
       "      <td>Dwight</td>\n",
       "      <td>Schrute</td>\n",
       "    </tr>\n",
       "  </tbody>\n",
       "</table>\n",
       "<p>101 rows × 2 columns</p>\n",
       "</div>"
      ],
      "text/plain": [
       "       firstname   lastname\n",
       "300000     Aimil      Hoban\n",
       "300001       Max      Teryn\n",
       "300002      Aili      Taima\n",
       "300003     Talya  Pettiford\n",
       "300004      Inga  Hortensia\n",
       "...          ...        ...\n",
       "300096      Alex      Zrike\n",
       "300097     Aimil  Whittaker\n",
       "300098  Cherilyn     Oriana\n",
       "300099      Shel       Ovid\n",
       "303030    Dwight    Schrute\n",
       "\n",
       "[101 rows x 2 columns]"
      ]
     },
     "execution_count": 10,
     "metadata": {},
     "output_type": "execute_result"
    }
   ],
   "source": [
    "students.add_student(303030, 'Dwight', 'Schrute')\n",
    "students.admitted_students"
   ]
  },
  {
   "cell_type": "code",
   "execution_count": 11,
   "metadata": {},
   "outputs": [
    {
     "data": {
      "text/plain": [
       "1"
      ]
     },
     "execution_count": 11,
     "metadata": {},
     "output_type": "execute_result"
    }
   ],
   "source": [
    "students.validate_student(303030)"
   ]
  },
  {
   "cell_type": "code",
   "execution_count": 12,
   "metadata": {},
   "outputs": [
    {
     "data": {
      "text/html": [
       "<div>\n",
       "<style scoped>\n",
       "    .dataframe tbody tr th:only-of-type {\n",
       "        vertical-align: middle;\n",
       "    }\n",
       "\n",
       "    .dataframe tbody tr th {\n",
       "        vertical-align: top;\n",
       "    }\n",
       "\n",
       "    .dataframe thead th {\n",
       "        text-align: right;\n",
       "    }\n",
       "</style>\n",
       "<table border=\"1\" class=\"dataframe\">\n",
       "  <thead>\n",
       "    <tr style=\"text-align: right;\">\n",
       "      <th></th>\n",
       "      <th>firstname</th>\n",
       "      <th>lastname</th>\n",
       "    </tr>\n",
       "  </thead>\n",
       "  <tbody>\n",
       "    <tr>\n",
       "      <th>300000</th>\n",
       "      <td>Aimil</td>\n",
       "      <td>Hoban</td>\n",
       "    </tr>\n",
       "    <tr>\n",
       "      <th>300001</th>\n",
       "      <td>Max</td>\n",
       "      <td>Teryn</td>\n",
       "    </tr>\n",
       "    <tr>\n",
       "      <th>300002</th>\n",
       "      <td>Aili</td>\n",
       "      <td>Taima</td>\n",
       "    </tr>\n",
       "    <tr>\n",
       "      <th>300003</th>\n",
       "      <td>Talya</td>\n",
       "      <td>Pettiford</td>\n",
       "    </tr>\n",
       "    <tr>\n",
       "      <th>300004</th>\n",
       "      <td>Inga</td>\n",
       "      <td>Hortensia</td>\n",
       "    </tr>\n",
       "    <tr>\n",
       "      <th>...</th>\n",
       "      <td>...</td>\n",
       "      <td>...</td>\n",
       "    </tr>\n",
       "    <tr>\n",
       "      <th>300095</th>\n",
       "      <td>Adriana</td>\n",
       "      <td>Yusuk</td>\n",
       "    </tr>\n",
       "    <tr>\n",
       "      <th>300096</th>\n",
       "      <td>Alex</td>\n",
       "      <td>Zrike</td>\n",
       "    </tr>\n",
       "    <tr>\n",
       "      <th>300097</th>\n",
       "      <td>Aimil</td>\n",
       "      <td>Whittaker</td>\n",
       "    </tr>\n",
       "    <tr>\n",
       "      <th>300098</th>\n",
       "      <td>Cherilyn</td>\n",
       "      <td>Oriana</td>\n",
       "    </tr>\n",
       "    <tr>\n",
       "      <th>300099</th>\n",
       "      <td>Shel</td>\n",
       "      <td>Ovid</td>\n",
       "    </tr>\n",
       "  </tbody>\n",
       "</table>\n",
       "<p>100 rows × 2 columns</p>\n",
       "</div>"
      ],
      "text/plain": [
       "       firstname   lastname\n",
       "300000     Aimil      Hoban\n",
       "300001       Max      Teryn\n",
       "300002      Aili      Taima\n",
       "300003     Talya  Pettiford\n",
       "300004      Inga  Hortensia\n",
       "...          ...        ...\n",
       "300095   Adriana      Yusuk\n",
       "300096      Alex      Zrike\n",
       "300097     Aimil  Whittaker\n",
       "300098  Cherilyn     Oriana\n",
       "300099      Shel       Ovid\n",
       "\n",
       "[100 rows x 2 columns]"
      ]
     },
     "execution_count": 12,
     "metadata": {},
     "output_type": "execute_result"
    }
   ],
   "source": [
    "students.delete_student(303030)\n",
    "students.admitted_students"
   ]
  },
  {
   "cell_type": "code",
   "execution_count": 13,
   "metadata": {},
   "outputs": [
    {
     "data": {
      "text/plain": [
       "0"
      ]
     },
     "execution_count": 13,
     "metadata": {},
     "output_type": "execute_result"
    }
   ],
   "source": [
    "students.validate_student(303030)"
   ]
  },
  {
   "cell_type": "code",
   "execution_count": 14,
   "metadata": {},
   "outputs": [],
   "source": [
    "students.export_students_to_csv('exported_students_list.csv')"
   ]
  }
 ],
 "metadata": {
  "interpreter": {
   "hash": "5515245567aa3cac2ef07b93b3130331c895543a95ef54424c29ffca375c0b05"
  },
  "kernelspec": {
   "display_name": "Python 3.9.12 ('ids-frai-env')",
   "language": "python",
   "name": "python3"
  },
  "language_info": {
   "codemirror_mode": {
    "name": "ipython",
    "version": 3
   },
   "file_extension": ".py",
   "mimetype": "text/x-python",
   "name": "python",
   "nbconvert_exporter": "python",
   "pygments_lexer": "ipython3",
   "version": "3.9.12"
  },
  "orig_nbformat": 4
 },
 "nbformat": 4,
 "nbformat_minor": 2
}
